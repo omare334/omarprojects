{
 "cells": [
  {
   "cell_type": "code",
   "execution_count": null,
   "outputs": [],
   "source": [
    "#how to use the xor function to remove duplicates\n",
    "   def solution(A):\n",
    "    result = 0\n",
    "    for i in range(0, len(A)):\n",
    "        result ^= A[i]\n",
    "    return result"
   ],
   "metadata": {
    "collapsed": false
   }
  },
  {
   "cell_type": "code",
   "execution_count": null,
   "outputs": [],
   "source": [],
   "metadata": {
    "collapsed": false
   }
  },
  {
   "cell_type": "markdown",
   "source": [
    "# to find the missing number in consecutive row\n",
    "# you first want to ge the sum of the n+1 of the row\n",
    "# however you don't want to add all of the digits all the time soo you use and equation for this"
   ],
   "metadata": {
    "collapsed": false
   }
  },
  {
   "cell_type": "code",
   "execution_count": null,
   "outputs": [],
   "source": [
    "def solution(A):\n",
    "    actual_sum = sum(A)\n",
    "    max_number = len(A) + 1\n",
    "    expected_sum = (max_number * (max_number + 1) // 2)\n",
    "    return expected_sum - actual_sum"
   ],
   "metadata": {
    "collapsed": false
   }
  },
  {
   "cell_type": "code",
   "execution_count": 13,
   "outputs": [
    {
     "name": "stdout",
     "output_type": "stream",
     "text": [
      "0\n"
     ]
    }
   ],
   "source": [
    "\n",
    "print(solution([5,6,8,9]))"
   ],
   "metadata": {
    "collapsed": false
   }
  },
  {
   "cell_type": "code",
   "execution_count": null,
   "outputs": [],
   "source": [
    "def solution(A):\n",
    "    minimum_number = float(\"inf\")\n",
    "    for i in range(len(A)):\n",
    "        left_array = A[:i]\n",
    "        right_array = A[i:]\n",
    "        sum1 = sum(left_array)\n",
    "        sum2 = sum(right_array)\n",
    "        result = abs(sum2 - sum1)\n",
    "        minimum_number = min(minimum_number, result)\n",
    "    return minimum_number"
   ],
   "metadata": {
    "collapsed": false
   }
  },
  {
   "cell_type": "code",
   "execution_count": 82,
   "outputs": [
    {
     "name": "stdout",
     "output_type": "stream",
     "text": [
      "0\n"
     ]
    }
   ],
   "source": [
    "def solutions(S):\n",
    "    up = 0\n",
    "    down = 0\n",
    "    left = 0\n",
    "    right = 0\n",
    "    for arrow in S:\n",
    "        if arrow == '^':\n",
    "            up += 1\n",
    "        elif arrow == 'v':\n",
    "            down += 1\n",
    "        elif arrow == '<':\n",
    "            left += 1\n",
    "        elif arrow == '>':\n",
    "            right += 1\n",
    "    count = 0\n",
    "    if up > 0:\n",
    "        count += up\n",
    "        if down > 0:\n",
    "            count += down - 1\n",
    "        if left > 0:\n",
    "            count += left\n",
    "        if right > 0:\n",
    "            count += right\n",
    "    elif down > 0:\n",
    "        count += down\n",
    "        if left > 0:\n",
    "            count += left\n",
    "        if right > 0:\n",
    "            count += right\n",
    "    elif left > 0:\n",
    "        count += left\n",
    "        if right > 0:\n",
    "            count += right\n",
    "    elif right > 0:\n",
    "        count += right\n",
    "    return count\n",
    "\n",
    "S= \"v>>>vv\"\n",
    "print(solutions(\"S\"))"
   ],
   "metadata": {
    "collapsed": false
   }
  },
  {
   "cell_type": "code",
   "execution_count": 90,
   "outputs": [
    {
     "name": "stdout",
     "output_type": "stream",
     "text": [
      "6\n"
     ]
    }
   ],
   "source": [
    "def solution(S):\n",
    "    up = 0\n",
    "    down = 0\n",
    "    left = 0\n",
    "    right = 0\n",
    "    for arrow in S:\n",
    "        if arrow == '^':\n",
    "            up += 1\n",
    "        elif arrow == 'v':\n",
    "            down += 1\n",
    "        elif arrow == '<':\n",
    "            left += 1\n",
    "        elif arrow == '>':\n",
    "            right += 1\n",
    "\n",
    "    # find the direction with the most arrows\n",
    "    max_direction = max(up, down, left, right)\n",
    "\n",
    "    # calculate the number of arrows that need to be rotated\n",
    "    # by subtracting the number of arrows in the max direction\n",
    "    # from the total number of arrows\n",
    "    #still issue of not working for larger N value\n",
    "    return len(S) - max_direction\n",
    "S=str(\"v>>>vv\")\n",
    "print(solutions(S))"
   ],
   "metadata": {
    "collapsed": false
   }
  },
  {
   "cell_type": "markdown",
   "source": [
    "This is to find the max binary gap babes"
   ],
   "metadata": {
    "collapsed": false
   }
  },
  {
   "cell_type": "code",
   "execution_count": 3,
   "outputs": [
    {
     "name": "stdout",
     "output_type": "stream",
     "text": [
      "3\n"
     ]
    }
   ],
   "source": [
    "def solution(x):\n",
    "    binary_rep = format(x, \"b\")\n",
    "    count = 0\n",
    "    maxgap = 0\n",
    "    for i in binary_rep:\n",
    "        if i == \"0\":\n",
    "            count += 1\n",
    "        elif i == \"1\":\n",
    "            if count != 0:\n",
    "                maxgap = max(maxgap, count)\n",
    "                count = 0\n",
    "    return maxgap\n",
    "\n",
    "print(solution(558))"
   ],
   "metadata": {
    "collapsed": false
   }
  },
  {
   "cell_type": "markdown",
   "source": [],
   "metadata": {
    "collapsed": false
   }
  },
  {
   "cell_type": "code",
   "execution_count": null,
   "outputs": [],
   "source": [
    "def solution(X, A):\n",
    "    leaves_needed = set(range(1, X+1))\n",
    "    earliest_time = -1\n",
    "    for i in range(len(A)):\n",
    "        if A[i] in leaves_needed:\n",
    "            leaves_needed.remove(A[i])\n",
    "            if not leaves_needed:\n",
    "                earliest_time = i\n",
    "    return earliest_time if earliest_time != -1 else -1"
   ],
   "metadata": {
    "collapsed": false
   }
  },
  {
   "cell_type": "code",
   "execution_count": 3,
   "outputs": [
    {
     "name": "stdout",
     "output_type": "stream",
     "text": [
      "2\n",
      "3\n",
      "4\n"
     ]
    }
   ],
   "source": [
    "A = 2\n",
    "while A < 5:\n",
    "    print(A)\n",
    "    A = A + 1"
   ],
   "metadata": {
    "collapsed": false
   }
  },
  {
   "cell_type": "code",
   "execution_count": 5,
   "outputs": [
    {
     "name": "stdout",
     "output_type": "stream",
     "text": [
      "[2, 43]\n"
     ]
    }
   ],
   "source": [
    "L=[4,12,2,43,15,36]\n",
    "print(L[2:4])"
   ],
   "metadata": {
    "collapsed": false
   }
  }
 ],
 "metadata": {
  "kernelspec": {
   "display_name": "Python 3",
   "language": "python",
   "name": "python3"
  },
  "language_info": {
   "codemirror_mode": {
    "name": "ipython",
    "version": 2
   },
   "file_extension": ".py",
   "mimetype": "text/x-python",
   "name": "python",
   "nbconvert_exporter": "python",
   "pygments_lexer": "ipython2",
   "version": "2.7.6"
  }
 },
 "nbformat": 4,
 "nbformat_minor": 0
}
